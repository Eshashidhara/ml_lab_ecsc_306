{
 "cells": [
  {
   "cell_type": "code",
   "execution_count": 1,
   "metadata": {},
   "outputs": [
    {
     "name": "stdout",
     "output_type": "stream",
     "text": [
      "96\n"
     ]
    }
   ],
   "source": [
    "import tensorflow as tf\n",
    "\n",
    "a=tf.constant(3,name='a')\n",
    "\n",
    "b=tf.constant(4,name='b')\n",
    "\n",
    "c=tf.constant(5,name='c')\n",
    "\n",
    "a1=tf.square(a,name='a1')\n",
    "\n",
    "b1=tf.square(b,name='b1')\n",
    "\n",
    "c1=tf.square(c,name='c1')\n",
    "\n",
    "e=tf.add(a1,b1)\n",
    "\n",
    "e1=tf.add(e,c1)\n",
    "\n",
    "f=tf.multiply(a,b)\n",
    "\n",
    "w=tf.multiply(c,a)\n",
    "\n",
    "y=tf.multiply(b,c)\n",
    "\n",
    "g=tf.constant(2,name='g')\n",
    "\n",
    "h=tf.multiply(g,f)\n",
    "h1=tf.multiply(g,w)\n",
    "h2=tf.multiply(g,y)\n",
    "\n",
    "s1=tf.subtract(h,h1)\n",
    "\n",
    "s2=tf.subtract(s1,h2)\n",
    "\n",
    "result=tf.subtract(e1,s2)\n",
    "\n",
    "with tf.Session() as session:\n",
    "\n",
    "    writer = tf.summary.FileWriter(\"/tmp/tboard/output2\", session.graph)\n",
    "\n",
    "    print(session.run(result))\n",
    "\n",
    "    writer.close()"
   ]
  },
  {
   "cell_type": "code",
   "execution_count": null,
   "metadata": {
    "collapsed": true
   },
   "outputs": [],
   "source": []
  }
 ],
 "metadata": {
  "kernelspec": {
   "display_name": "Python 3",
   "language": "python",
   "name": "python3"
  },
  "language_info": {
   "codemirror_mode": {
    "name": "ipython",
    "version": 3
   },
   "file_extension": ".py",
   "mimetype": "text/x-python",
   "name": "python",
   "nbconvert_exporter": "python",
   "pygments_lexer": "ipython3",
   "version": "3.6.1"
  }
 },
 "nbformat": 4,
 "nbformat_minor": 2
}
